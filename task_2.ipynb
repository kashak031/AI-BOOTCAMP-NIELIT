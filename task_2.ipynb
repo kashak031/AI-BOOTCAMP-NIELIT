{
  "nbformat": 4,
  "nbformat_minor": 0,
  "metadata": {
    "colab": {
      "provenance": []
    },
    "kernelspec": {
      "name": "python3",
      "display_name": "Python 3"
    },
    "language_info": {
      "name": "python"
    }
  },
  "cells": [
    {
      "cell_type": "code",
      "source": [
        "a= 5\n",
        "b= 4\n",
        "c= a+b\n",
        "print(\"value of sum=\",c)"
      ],
      "metadata": {
        "colab": {
          "base_uri": "https://localhost:8080/"
        },
        "id": "h5Sco_ODUQsU",
        "outputId": "880f31a4-1625-446d-863e-8a5c3f1c6375"
      },
      "execution_count": null,
      "outputs": [
        {
          "output_type": "stream",
          "name": "stdout",
          "text": [
            "value of sum= 9\n"
          ]
        }
      ]
    }
  ]
}