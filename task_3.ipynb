{
  "nbformat": 4,
  "nbformat_minor": 0,
  "metadata": {
    "colab": {
      "provenance": []
    },
    "kernelspec": {
      "name": "python3",
      "display_name": "Python 3"
    },
    "language_info": {
      "name": "python"
    }
  },
  "cells": [
    {
      "cell_type": "code",
      "execution_count": null,
      "metadata": {
        "colab": {
          "base_uri": "https://localhost:8080/"
        },
        "id": "yuS9aB3sVFV0",
        "outputId": "7d5eab33-63fa-4929-8edf-f9bd4890ac31"
      },
      "outputs": [
        {
          "name": "stdout",
          "output_type": "stream",
          "text": [
            "enter first number4\n",
            "enter second number5\n"
          ]
        }
      ],
      "source": [
        "\n",
        "a= int(input(\"enter first number\"))\n",
        "b= int(input(\"enter second number\"))"
      ]
    },
    {
      "cell_type": "code",
      "source": [
        "c= a*b\n",
        "print(\"multiplication of two numbers is\",c)"
      ],
      "metadata": {
        "colab": {
          "base_uri": "https://localhost:8080/"
        },
        "id": "Qj8ZdRmya_e3",
        "outputId": "3180bf5b-2f03-427d-e389-adbcbe460df0"
      },
      "execution_count": null,
      "outputs": [
        {
          "output_type": "stream",
          "name": "stdout",
          "text": [
            "multiplication of two numbers is 20\n"
          ]
        }
      ]
    }
  ]
}