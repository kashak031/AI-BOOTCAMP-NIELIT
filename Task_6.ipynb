{
  "nbformat": 4,
  "nbformat_minor": 0,
  "metadata": {
    "colab": {
      "provenance": []
    },
    "kernelspec": {
      "name": "python3",
      "display_name": "Python 3"
    },
    "language_info": {
      "name": "python"
    }
  },
  "cells": [
    {
      "cell_type": "code",
      "execution_count": 3,
      "metadata": {
        "colab": {
          "base_uri": "https://localhost:8080/"
        },
        "id": "hd4c7XK1BV6Z",
        "outputId": "c50e05fe-ef1d-49c4-c168-798aecf92d33"
      },
      "outputs": [
        {
          "output_type": "stream",
          "name": "stdout",
          "text": [
            "                            movie_name                    genre  \\\n",
            "0             The Shawshank Redemption             Drama, Crime   \n",
            "1                        The Godfather             Drama, Crime   \n",
            "2                The Godfather Part II             Drama, Crime   \n",
            "3                     Schindler's List      Drama, History, War   \n",
            "4                         12 Angry Men                    Drama   \n",
            "...                                ...                      ...   \n",
            "9415                       The Misfits         Action, Thriller   \n",
            "9416                    A Serbian Film  Crime, Horror, Thriller   \n",
            "9417  The Night Before the Exams Today                   Comedy   \n",
            "9418                         Problemos                   Comedy   \n",
            "9419   Candyman: Farewell to the Flesh         Horror, Thriller   \n",
            "\n",
            "                                            description  \n",
            "0     Imprisoned in the 1940s for the double murder ...  \n",
            "1     Spanning the years 1945 to 1955, a chronicle o...  \n",
            "2     In the continuing saga of the Corleone crime f...  \n",
            "3     The true story of how businessman Oskar Schind...  \n",
            "4     The defense and the prosecution have rested an...  \n",
            "...                                                 ...  \n",
            "9415  After being recruited by a group of unconventi...  \n",
            "9416  Retired porn star Milos leads a normal family ...  \n",
            "9417  In 2006, as World Cup fever sweeps Italy, high...  \n",
            "9418  When a pandemic strikes the world, Victor and ...  \n",
            "9419  Annie, a young schoolteacher struggling to sol...  \n",
            "\n",
            "[9420 rows x 3 columns]\n"
          ]
        }
      ],
      "source": [
        "import pandas as pd\n",
        "#Read data from a CVS file\n",
        "df_csv = pd.read_csv('/content/top_movies.csv')\n",
        "#Print the Dataframe\n",
        "print(df_csv)"
      ]
    },
    {
      "cell_type": "markdown",
      "source": [],
      "metadata": {
        "id": "-5sZUz47CDC-"
      }
    }
  ]
}